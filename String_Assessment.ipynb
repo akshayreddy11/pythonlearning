{
  "cells": [
    {
      "cell_type": "markdown",
      "metadata": {
        "id": "view-in-github",
        "colab_type": "text"
      },
      "source": [
        "<a href=\"https://colab.research.google.com/github/akshayreddy11/pythonlearning/blob/main/String_Assessment.ipynb\" target=\"_parent\"><img src=\"https://colab.research.google.com/assets/colab-badge.svg\" alt=\"Open In Colab\"/></a>"
      ]
    },
    {
      "cell_type": "markdown",
      "metadata": {
        "id": "eh5Ph74_HqpD"
      },
      "source": [
        "## how would you confimm that two strings have the same identity?"
      ]
    },
    {
      "cell_type": "code",
      "execution_count": null,
      "metadata": {
        "colab": {
          "base_uri": "https://localhost:8080/"
        },
        "id": "oERbt__VktUg",
        "outputId": "bc029020-5112-48a3-8efe-7cad5dd0314a"
      },
      "outputs": [
        {
          "output_type": "stream",
          "name": "stdout",
          "text": [
            "Priyank\n",
            "Priyank\n",
            "They have same identity\n"
          ]
        }
      ],
      "source": [
        "x=input()\n",
        "y=input()\n",
        "if x == y:\n",
        "  print(\"They have same identity\")\n",
        "else:\n",
        "  print(\"They dont have same identity\")"
      ]
    },
    {
      "cell_type": "code",
      "execution_count": null,
      "metadata": {
        "id": "fAJ6UCYeRkRF"
      },
      "outputs": [],
      "source": []
    },
    {
      "cell_type": "code",
      "execution_count": null,
      "metadata": {
        "colab": {
          "background_save": true
        },
        "id": "TyQsLgjJG6ps"
      },
      "outputs": [],
      "source": []
    },
    {
      "cell_type": "markdown",
      "metadata": {
        "id": "xSfXJRgVHKOB"
      },
      "source": [
        "How to find the length and index of the string?"
      ]
    },
    {
      "cell_type": "code",
      "execution_count": null,
      "metadata": {
        "colab": {
          "base_uri": "https://localhost:8080/"
        },
        "id": "cuEJ9hZ_S4df",
        "outputId": "c5d23eeb-b86d-48d5-b023-58fba8b0feaa"
      },
      "outputs": [
        {
          "output_type": "stream",
          "name": "stdout",
          "text": [
            "Length of the string is :  7\n",
            "index value is:  -1\n"
          ]
        }
      ],
      "source": [
        "s= \"priyank\"\n",
        "length= len(s)\n",
        "print(\"Length of the string is : \", length)\n",
        "x='t'\n",
        "y=s.find(x)\n",
        "print(\"index value is: \", y)"
      ]
    },
    {
      "cell_type": "code",
      "source": [],
      "metadata": {
        "id": "FeVRzzTsnpKv"
      },
      "execution_count": null,
      "outputs": []
    },
    {
      "cell_type": "markdown",
      "metadata": {
        "id": "EGK-LzalIO_i"
      },
      "source": [
        "## how to check a string contain a specific substring"
      ]
    },
    {
      "cell_type": "code",
      "execution_count": null,
      "metadata": {
        "id": "g1HYIC9gJ7Vi"
      },
      "outputs": [],
      "source": [
        "s=input(\"enter the string:\")\n",
        "sub=input(\"Enter the string:\")\n",
        "if sub in s:\n",
        "  print(\"The string contains the specific string\")\n",
        "else:\n",
        "  print(\"The string does not contain any specific string\")"
      ]
    },
    {
      "cell_type": "markdown",
      "metadata": {
        "id": "LmY6RXjoJF9h"
      },
      "source": [
        "## how to a take a string from backward with two step difference?\n"
      ]
    },
    {
      "cell_type": "code",
      "execution_count": null,
      "metadata": {
        "colab": {
          "base_uri": "https://localhost:8080/"
        },
        "id": "_C_pqVqBJ8AA",
        "outputId": "6742835c-6b81-479d-8915-ededcc6cfddb"
      },
      "outputs": [
        {
          "output_type": "stream",
          "name": "stdout",
          "text": [
            "enter the string:pranav\n",
            "original string is: pranav\n",
            "String from backward with two step difference: vnr\n"
          ]
        }
      ],
      "source": [
        "s=input(\"enter the string:\")\n",
        "t=s[::-2]\n",
        "print(\"original string is:\",s)\n",
        "print(\"String from backward with two step difference:\",t)"
      ]
    },
    {
      "cell_type": "markdown",
      "metadata": {
        "id": "7eg6JfyuJr_2"
      },
      "source": [
        "## how to find the index of the last element"
      ]
    },
    {
      "cell_type": "code",
      "execution_count": null,
      "metadata": {
        "colab": {
          "base_uri": "https://localhost:8080/"
        },
        "id": "T84ODp77J8zR",
        "outputId": "11eb02d1-5b5c-40bc-cecc-5ec5db8f5ff0"
      },
      "outputs": [
        {
          "output_type": "stream",
          "name": "stdout",
          "text": [
            "Enter the string :pranav\n",
            "Index of last element is 5\n"
          ]
        }
      ],
      "source": [
        "s=input(\"Enter the string :\")\n",
        "print(\"Index of last element is\", len(s)-1 )"
      ]
    },
    {
      "cell_type": "markdown",
      "metadata": {
        "id": "FTdxvLc1J0lv"
      },
      "source": [
        "## Write 2 ways to concatinate the string"
      ]
    },
    {
      "cell_type": "code",
      "execution_count": null,
      "metadata": {
        "id": "j8P9ODeTJ9Zz"
      },
      "outputs": [],
      "source": [
        "\n"
      ]
    }
  ],
  "metadata": {
    "colab": {
      "provenance": [],
      "include_colab_link": true
    },
    "kernelspec": {
      "display_name": "Python 3",
      "name": "python3"
    },
    "language_info": {
      "name": "python"
    }
  },
  "nbformat": 4,
  "nbformat_minor": 0
}